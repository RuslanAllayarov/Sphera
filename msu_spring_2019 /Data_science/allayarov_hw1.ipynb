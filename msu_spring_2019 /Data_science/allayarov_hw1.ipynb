{
 "cells": [
  {
   "cell_type": "markdown",
   "metadata": {},
   "source": [
    "**Общая информация**\n",
    "\n",
    "**Срок сдачи:** 20 марта 2019, 06:00 <br\\>\n",
    "**Штраф за опоздание:** -1 балл после 06:00 20 марта, -2 балла после 06:00 27 марта, -3 балла после 06:00 3 апреля\n",
    "\n",
    "При отправлении ДЗ указывайте фамилию в названии файла\n",
    "Присылать ДЗ необходимо в виде ссылки на свой github репозиторий в slack @alkhamush\n",
    "\n",
    "Необходимо в slack скинуть ссылку в личный чат @alkhamush\n",
    "Пример ссылки:\n",
    "https://github.com/stroykova/spheremailru/stroykova_hw1.ipynb \n",
    "\n",
    "\n",
    "Используйте данный Ipython Notebook при оформлении домашнего задания."
   ]
  },
  {
   "cell_type": "markdown",
   "metadata": {},
   "source": [
    "###### Задание 1 (2 баллов)\n",
    "Реализовать KNN в классе MyKNeighborsClassifier (обязательное условие: точность не ниже sklearn реализации)\n",
    "Разберитесь самостоятельно, какая мера расстояния используется в KNeighborsClassifier дефолтно и реализуйте свой алгоритм именно с этой мерой. Самостоятельно разберитесь, как считается score из KNeighborsClassifier и реализуйте аналог в своём классе. Score не должен уступать значению KNN из sklearn\n",
    "\n",
    "###### Задание 2 (2 балла)\n",
    "Добиться скорости работы на fit,  predict и predict_proba сравнимой со sklearn для iris и mnist\n",
    "Для этого используем numpy\n",
    "\n",
    "###### Задание 3 (2 балла)\n",
    "Для iris найдите такой параметр n_neighbors, при котором выдаётся наилучший score. Нарисуйте график зависимости score от n_neighbors\n",
    "\n",
    "###### Задание 4 (3 балла)\n",
    "Добавить algorithm='kd_tree' в реализацию KNN (использовать KDTree из sklearn.neighbors). Значение n_neighbors нужно взять из задания 3. Добиться скорости работы на fit,  predict и predict_proba сравнимой со sklearn для iris и mnist\n",
    "Для этого используем numpy. Score не должен уступать значению KNN из sklearn\n",
    "\n",
    "###### Задание 5 (1 балла)\n",
    "Описать для чего нужны следующие библиотеки/классы/функции (список будет ниже)\n",
    "\n",
    "**Штрафные баллы:**\n",
    "\n",
    "1. Невыполнение PEP8 -1 балл\n",
    "2. Отсутствие фамилии в имени скрипта (скрипт должен называться по аналогии со stroykova_hw1.ipynb) -1 балл\n",
    "3. Все строчки должны быть выполнены. Нужно, чтобы output команды можно было увидеть уже в git'е. В противном случае -1 балл\n",
    "4. При оформлении ДЗ нужно пользоваться данным файлом в качестве шаблона. Не нужно удалять и видоизменять структуру кода и текст. В противном случае -1 балл\n"
   ]
  },
  {
   "cell_type": "code",
   "execution_count": 1,
   "metadata": {},
   "outputs": [],
   "source": [
    "import numpy as np\n",
    "import matplotlib.pyplot as plt\n",
    "\n",
    "import seaborn as sns\n",
    "from sklearn import datasets\n",
    "from sklearn.base import ClassifierMixin\n",
    "from sklearn.datasets import fetch_mldata\n",
    "from sklearn.neighbors.base import NeighborsBase, KNeighborsMixin, SupervisedIntegerMixin \n",
    "from sklearn.model_selection import train_test_split\n",
    "from sklearn.neighbors import KNeighborsClassifier\n",
    "%load_ext pycodestyle_magic"
   ]
  },
  {
   "cell_type": "code",
   "execution_count": 3,
   "metadata": {
    "scrolled": false
   },
   "outputs": [],
   "source": [
    "#%%pycodestyle\n",
    "from sklearn.neighbors import KDTree\n",
    "\n",
    "\n",
    "class MyKNeighborsClassifier(NeighborsBase, KNeighborsMixin,\n",
    "                             SupervisedIntegerMixin, ClassifierMixin):\n",
    "    def __init__(self, n_neighbors, algorithm='brute'):\n",
    "        self.n_neighbors = n_neighbors\n",
    "        self.algorithm = algorithm\n",
    "\n",
    "    def fit(self, X, y):\n",
    "        self.X_train = X\n",
    "        self.y = y\n",
    "        if (self.algorithm == 'kd_tree'):\n",
    "            self.tree = KDTree(X)\n",
    "\n",
    "    def predict(self, X):\n",
    "        if (self.algorithm == 'brute'):\n",
    "            from scipy.spatial.distance import cdist\n",
    "            dist_matrix = cdist(X, self.X_train)\n",
    "            index = np.argpartition(dist_matrix, self.n_neighbors)\n",
    "            index = index[:, :self.n_neighbors]\n",
    "        else:\n",
    "            q, index = self.tree.query(X, k=self.n_neighbors)\n",
    "        class_near_point = self.y[index].astype(int)\n",
    "        near = []\n",
    "        for el in class_near_point:\n",
    "            near.append(np.argmax(np.bincount(el)))\n",
    "        return np.array(near)\n",
    "\n",
    "    def predict_proba(self, X):\n",
    "        diff_target = np.unique(self.y).shape[0]\n",
    "        if (self.algorithm == 'brute'):\n",
    "            from scipy.spatial.distance import cdist\n",
    "            dist_matrix = cdist(X, self.X_train)\n",
    "            index = np.argpartition(dist_matrix, self.n_neighbors)\n",
    "            index = index[:, :self.n_neighbors]\n",
    "        elif(self.algorithm == 'kd_tree'):\n",
    "            q, index = self.tree.query(X, k=self.n_neighbors)\n",
    "        class_near_point = self.y[index].astype(int)\n",
    "        res = np.zeros((X.shape[0], diff_target))\n",
    "        for i in range(X.shape[0]):\n",
    "            for el in class_near_point[i]:\n",
    "                res[i][el] += 1\n",
    "        return res / self.n_neighbors\n",
    "\n",
    "    def score(self, X, y):\n",
    "        return np.mean(self.predict(X) == y)"
   ]
  },
  {
   "cell_type": "markdown",
   "metadata": {},
   "source": [
    "**IRIS**"
   ]
  },
  {
   "cell_type": "code",
   "execution_count": 47,
   "metadata": {},
   "outputs": [],
   "source": [
    "iris = datasets.load_iris()"
   ]
  },
  {
   "cell_type": "code",
   "execution_count": 48,
   "metadata": {},
   "outputs": [],
   "source": [
    "X_train, X_test, y_train, y_test = train_test_split(iris.data, iris.target, test_size=0.1, stratify=iris.target)"
   ]
  },
  {
   "cell_type": "code",
   "execution_count": 49,
   "metadata": {},
   "outputs": [],
   "source": [
    "clf = KNeighborsClassifier(n_neighbors=2)\n",
    "my_clf = MyKNeighborsClassifier(n_neighbors=2)"
   ]
  },
  {
   "cell_type": "code",
   "execution_count": 50,
   "metadata": {},
   "outputs": [
    {
     "name": "stdout",
     "output_type": "stream",
     "text": [
      "CPU times: user 1.12 ms, sys: 0 ns, total: 1.12 ms\n",
      "Wall time: 963 µs\n"
     ]
    },
    {
     "data": {
      "text/plain": [
       "KNeighborsClassifier(algorithm='auto', leaf_size=30, metric='minkowski',\n",
       "           metric_params=None, n_jobs=None, n_neighbors=2, p=2,\n",
       "           weights='uniform')"
      ]
     },
     "execution_count": 50,
     "metadata": {},
     "output_type": "execute_result"
    }
   ],
   "source": [
    "%time clf.fit(X_train, y_train)"
   ]
  },
  {
   "cell_type": "code",
   "execution_count": 51,
   "metadata": {},
   "outputs": [
    {
     "name": "stdout",
     "output_type": "stream",
     "text": [
      "CPU times: user 7 µs, sys: 1 µs, total: 8 µs\n",
      "Wall time: 11.4 µs\n"
     ]
    }
   ],
   "source": [
    "%time my_clf.fit(X_train, y_train)"
   ]
  },
  {
   "cell_type": "code",
   "execution_count": 52,
   "metadata": {},
   "outputs": [
    {
     "name": "stdout",
     "output_type": "stream",
     "text": [
      "CPU times: user 2.25 ms, sys: 283 µs, total: 2.53 ms\n",
      "Wall time: 2.19 ms\n"
     ]
    },
    {
     "data": {
      "text/plain": [
       "array([1, 1, 1, 2, 1, 0, 0, 2, 2, 0, 0, 0, 2, 1, 2])"
      ]
     },
     "execution_count": 52,
     "metadata": {},
     "output_type": "execute_result"
    }
   ],
   "source": [
    "%time clf.predict(X_test)"
   ]
  },
  {
   "cell_type": "code",
   "execution_count": 53,
   "metadata": {},
   "outputs": [
    {
     "name": "stdout",
     "output_type": "stream",
     "text": [
      "CPU times: user 1.9 ms, sys: 238 µs, total: 2.14 ms\n",
      "Wall time: 1.42 ms\n"
     ]
    },
    {
     "data": {
      "text/plain": [
       "array([1, 1, 1, 2, 1, 0, 0, 2, 2, 0, 0, 0, 2, 1, 2])"
      ]
     },
     "execution_count": 53,
     "metadata": {},
     "output_type": "execute_result"
    }
   ],
   "source": [
    "%time my_clf.predict(X_test)"
   ]
  },
  {
   "cell_type": "code",
   "execution_count": 54,
   "metadata": {},
   "outputs": [
    {
     "name": "stdout",
     "output_type": "stream",
     "text": [
      "CPU times: user 1.61 ms, sys: 201 µs, total: 1.81 ms\n",
      "Wall time: 1.46 ms\n"
     ]
    },
    {
     "data": {
      "text/plain": [
       "array([[0., 1., 0.],\n",
       "       [0., 1., 0.],\n",
       "       [0., 1., 0.],\n",
       "       [0., 0., 1.],\n",
       "       [0., 1., 0.],\n",
       "       [1., 0., 0.],\n",
       "       [1., 0., 0.],\n",
       "       [0., 0., 1.],\n",
       "       [0., 0., 1.],\n",
       "       [1., 0., 0.],\n",
       "       [1., 0., 0.],\n",
       "       [1., 0., 0.],\n",
       "       [0., 0., 1.],\n",
       "       [0., 1., 0.],\n",
       "       [0., 0., 1.]])"
      ]
     },
     "execution_count": 54,
     "metadata": {},
     "output_type": "execute_result"
    }
   ],
   "source": [
    "%time clf.predict_proba(X_test)"
   ]
  },
  {
   "cell_type": "code",
   "execution_count": 55,
   "metadata": {},
   "outputs": [
    {
     "name": "stdout",
     "output_type": "stream",
     "text": [
      "CPU times: user 1.41 ms, sys: 0 ns, total: 1.41 ms\n",
      "Wall time: 903 µs\n"
     ]
    },
    {
     "data": {
      "text/plain": [
       "array([[0., 1., 0.],\n",
       "       [0., 1., 0.],\n",
       "       [0., 1., 0.],\n",
       "       [0., 0., 1.],\n",
       "       [0., 1., 0.],\n",
       "       [1., 0., 0.],\n",
       "       [1., 0., 0.],\n",
       "       [0., 0., 1.],\n",
       "       [0., 0., 1.],\n",
       "       [1., 0., 0.],\n",
       "       [1., 0., 0.],\n",
       "       [1., 0., 0.],\n",
       "       [0., 0., 1.],\n",
       "       [0., 1., 0.],\n",
       "       [0., 0., 1.]])"
      ]
     },
     "execution_count": 55,
     "metadata": {},
     "output_type": "execute_result"
    }
   ],
   "source": [
    "%time my_clf.predict_proba(X_test)"
   ]
  },
  {
   "cell_type": "code",
   "execution_count": 56,
   "metadata": {},
   "outputs": [
    {
     "data": {
      "text/plain": [
       "1.0"
      ]
     },
     "execution_count": 56,
     "metadata": {},
     "output_type": "execute_result"
    }
   ],
   "source": [
    "clf.score(X_test, y_test)"
   ]
  },
  {
   "cell_type": "code",
   "execution_count": 57,
   "metadata": {},
   "outputs": [
    {
     "data": {
      "text/plain": [
       "1.0"
      ]
     },
     "execution_count": 57,
     "metadata": {},
     "output_type": "execute_result"
    }
   ],
   "source": [
    "my_clf.score(X_test, y_test)"
   ]
  },
  {
   "cell_type": "markdown",
   "metadata": {},
   "source": [
    "Задание 3"
   ]
  },
  {
   "cell_type": "code",
   "execution_count": 58,
   "metadata": {},
   "outputs": [
    {
     "name": "stdout",
     "output_type": "stream",
     "text": [
      "Best score while N = 1\n"
     ]
    },
    {
     "data": {
      "image/png": "[encoded data removed]",
      "text/plain": [
       "<Figure size 1080x432 with 1 Axes>"
      ]
     },
     "metadata": {
      "needs_background": "light"
     },
     "output_type": "display_data"
    }
   ],
   "source": [
    "import matplotlib.pyplot as plt\n",
    "import numpy as np\n",
    "fig, ax = plt.subplots(figsize=(15, 6))\n",
    "A = []\n",
    "for i in range(1, 30):\n",
    "    clf = KNeighborsClassifier(n_neighbors=i)\n",
    "    clf.fit(X_train, y_train)\n",
    "    y = clf.score(X_test, y_test)*100\n",
    "    A.append(y)\n",
    "ax.plot(range(1, 30), A)\n",
    "ax.set_title('Score(N_Neighbors)')\n",
    "ax.set_ylabel('Score')\n",
    "ax.set_xlabel('N_Neighbors')\n",
    "N_best_score = np.argmax(A) + 1\n",
    "print('Best score while N =',N_best_score)"
   ]
  },
  {
   "cell_type": "markdown",
   "metadata": {},
   "source": [
    "**MNIST**"
   ]
  },
  {
   "cell_type": "code",
   "execution_count": 59,
   "metadata": {},
   "outputs": [
    {
     "name": "stderr",
     "output_type": "stream",
     "text": [
      "/home/ruslanallayarov/anaconda3/lib/python3.7/site-packages/sklearn/utils/deprecation.py:77: DeprecationWarning: Function fetch_mldata is deprecated; fetch_mldata was deprecated in version 0.20 and will be removed in version 0.22\n",
      "  warnings.warn(msg, category=DeprecationWarning)\n",
      "/home/ruslanallayarov/anaconda3/lib/python3.7/site-packages/sklearn/utils/deprecation.py:77: DeprecationWarning: Function mldata_filename is deprecated; mldata_filename was deprecated in version 0.20 and will be removed in version 0.22\n",
      "  warnings.warn(msg, category=DeprecationWarning)\n"
     ]
    }
   ],
   "source": [
    "mnist = fetch_mldata('MNIST original')"
   ]
  },
  {
   "cell_type": "code",
   "execution_count": 60,
   "metadata": {},
   "outputs": [],
   "source": [
    "X_train, X_test, y_train, y_test = train_test_split(mnist.data, mnist.target, test_size=0.01, stratify=mnist.target)"
   ]
  },
  {
   "cell_type": "code",
   "execution_count": 61,
   "metadata": {},
   "outputs": [],
   "source": [
    "clf = KNeighborsClassifier(n_neighbors=2)\n",
    "my_clf = MyKNeighborsClassifier(n_neighbors=2)"
   ]
  },
  {
   "cell_type": "code",
   "execution_count": 62,
   "metadata": {},
   "outputs": [
    {
     "name": "stdout",
     "output_type": "stream",
     "text": [
      "CPU times: user 49.9 s, sys: 199 ms, total: 50.1 s\n",
      "Wall time: 50.1 s\n"
     ]
    },
    {
     "data": {
      "text/plain": [
       "KNeighborsClassifier(algorithm='auto', leaf_size=30, metric='minkowski',\n",
       "           metric_params=None, n_jobs=None, n_neighbors=2, p=2,\n",
       "           weights='uniform')"
      ]
     },
     "execution_count": 62,
     "metadata": {},
     "output_type": "execute_result"
    }
   ],
   "source": [
    "%time clf.fit(X_train, y_train)"
   ]
  },
  {
   "cell_type": "code",
   "execution_count": 62,
   "metadata": {},
   "outputs": [
    {
     "name": "stdout",
     "output_type": "stream",
     "text": [
      "CPU times: user 13 µs, sys: 0 ns, total: 13 µs\n",
      "Wall time: 17.6 µs\n"
     ]
    }
   ],
   "source": [
    "%time my_clf.fit(X_train, y_train)"
   ]
  },
  {
   "cell_type": "code",
   "execution_count": 94,
   "metadata": {},
   "outputs": [
    {
     "name": "stdout",
     "output_type": "stream",
     "text": [
      "CPU times: user 1min 7s, sys: 0 ns, total: 1min 7s\n",
      "Wall time: 1min 7s\n"
     ]
    },
    {
     "data": {
      "text/plain": [
       "array([1, 7, 4, 0, 4, 0, 5, 4, 8, 5, 8, 1, 5, 1, 6, 1, 4, 5, 6, 9, 7, 2,\n",
       "       3, 5, 9, 2, 0, 6, 7, 8, 2, 2, 5, 7, 4, 5, 3, 2, 9, 2, 0, 9, 1, 9,\n",
       "       4, 4, 8, 2, 7, 1, 5, 2, 0, 4, 0, 8, 9, 8, 9, 2, 1, 9, 9, 4, 3, 2,\n",
       "       1, 3, 6, 0, 3, 8, 2, 0, 7, 1, 6, 6, 8, 2, 3, 7, 5, 3, 1, 6, 3, 3,\n",
       "       8, 7, 7, 4, 6, 5, 0, 1, 8, 0, 8, 8, 6, 3, 4, 2, 1, 0, 0, 5, 5, 3,\n",
       "       5, 4, 3, 2, 7, 3, 7, 6, 4, 4, 0, 8, 9, 9, 3, 8, 1, 0, 8, 4, 1, 7,\n",
       "       4, 2, 9, 8, 8, 8, 7, 8, 0, 8, 1, 1, 7, 4, 8, 7, 1, 8, 8, 5, 5, 2,\n",
       "       3, 7, 0, 9, 0, 2, 4, 3, 6, 7, 1, 8, 1, 3, 9, 1, 7, 0, 9, 3, 7, 2,\n",
       "       7, 7, 4, 8, 1, 3, 3, 7, 2, 7, 2, 0, 9, 1, 5, 6, 5, 5, 2, 3, 5, 1,\n",
       "       2, 1, 0, 4, 2, 1, 4, 5, 7, 2, 0, 7, 4, 3, 6, 3, 1, 6, 3, 1, 3, 7,\n",
       "       8, 7, 6, 8, 9, 4, 4, 3, 3, 1, 9, 9, 1, 9, 4, 1, 3, 1, 2, 7, 7, 7,\n",
       "       5, 9, 0, 7, 3, 7, 4, 9, 3, 2, 0, 2, 4, 6, 7, 6, 0, 3, 4, 6, 6, 3,\n",
       "       8, 9, 1, 3, 6, 3, 2, 6, 1, 5, 3, 2, 3, 7, 6, 8, 1, 0, 3, 1, 2, 7,\n",
       "       5, 9, 1, 7, 9, 0, 7, 7, 8, 4, 4, 8, 5, 9, 1, 7, 5, 9, 4, 7, 3, 7,\n",
       "       1, 9, 3, 6, 3, 5, 5, 8, 7, 6, 4, 6, 3, 8, 6, 6, 4, 8, 0, 3, 8, 1,\n",
       "       5, 7, 6, 0, 8, 5, 2, 1, 3, 3, 6, 7, 6, 1, 9, 9, 1, 3, 9, 0, 7, 1,\n",
       "       2, 0, 1, 9, 4, 2, 9, 5, 1, 3, 7, 4, 5, 7, 3, 6, 4, 1, 2, 9, 3, 0,\n",
       "       5, 0, 4, 9, 1, 4, 7, 4, 1, 1, 0, 3, 1, 1, 1, 7, 5, 7, 0, 7, 4, 8,\n",
       "       0, 7, 5, 3, 9, 4, 9, 6, 1, 3, 6, 2, 8, 4, 7, 7, 9, 4, 3, 1, 5, 9,\n",
       "       7, 6, 5, 6, 1, 7, 9, 7, 7, 8, 8, 1, 1, 0, 1, 2, 9, 6, 7, 6, 2, 3,\n",
       "       3, 6, 0, 0, 7, 9, 5, 2, 4, 5, 8, 6, 3, 6, 9, 6, 2, 9, 7, 5, 6, 2,\n",
       "       2, 0, 4, 2, 4, 4, 8, 6, 2, 5, 4, 2, 3, 1, 2, 1, 0, 0, 3, 5, 0, 1,\n",
       "       4, 4, 2, 5, 1, 9, 2, 7, 8, 8, 0, 2, 7, 9, 0, 4, 6, 0, 7, 7, 4, 9,\n",
       "       2, 5, 8, 0, 1, 1, 2, 5, 9, 3, 9, 0, 3, 1, 6, 2, 6, 2, 1, 5, 4, 4,\n",
       "       6, 7, 0, 5, 7, 9, 8, 7, 0, 6, 4, 7, 5, 6, 8, 2, 2, 6, 1, 0, 1, 0,\n",
       "       7, 4, 0, 1, 4, 0, 2, 3, 0, 4, 0, 8, 0, 9, 3, 2, 4, 0, 6, 6, 9, 2,\n",
       "       4, 8, 2, 6, 9, 9, 3, 0, 5, 8, 1, 1, 9, 0, 4, 5, 1, 9, 0, 1, 2, 3,\n",
       "       8, 4, 8, 4, 8, 1, 5, 6, 1, 3, 0, 9, 1, 8, 3, 5, 3, 6, 6, 5, 5, 7,\n",
       "       5, 5, 5, 3, 9, 4, 8, 0, 9, 9, 6, 3, 5, 7, 8, 0, 2, 1, 7, 9, 8, 2,\n",
       "       8, 3, 9, 2, 8, 6, 0, 6, 2, 6, 8, 0, 4, 1, 9, 3, 8, 4, 4, 3, 7, 4,\n",
       "       5, 0, 3, 3, 6, 4, 6, 3, 4, 2, 2, 9, 0, 1, 6, 1, 2, 0, 7, 6, 7, 7,\n",
       "       8, 5, 0, 1, 5, 2, 8, 0, 0, 3, 6, 6, 1, 0, 2, 6, 2, 5])"
      ]
     },
     "execution_count": 94,
     "metadata": {},
     "output_type": "execute_result"
    }
   ],
   "source": [
    "%time clf.predict(X_test)"
   ]
  },
  {
   "cell_type": "code",
   "execution_count": 63,
   "metadata": {},
   "outputs": [
    {
     "name": "stdout",
     "output_type": "stream",
     "text": [
      "CPU times: user 27.8 s, sys: 803 ms, total: 28.6 s\n",
      "Wall time: 31.9 s\n"
     ]
    },
    {
     "data": {
      "text/plain": [
       "array([2, 7, 7, 6, 8, 5, 9, 3, 2, 7, 9, 2, 7, 9, 4, 6, 5, 3, 2, 4, 4, 4,\n",
       "       5, 2, 2, 2, 3, 8, 9, 7, 6, 1, 8, 1, 7, 6, 6, 9, 1, 0, 5, 5, 2, 6,\n",
       "       9, 7, 0, 8, 1, 1, 2, 4, 1, 6, 9, 7, 7, 1, 7, 1, 5, 0, 3, 4, 2, 2,\n",
       "       3, 1, 0, 1, 1, 5, 0, 5, 5, 1, 0, 1, 6, 7, 7, 5, 1, 6, 2, 3, 9, 2,\n",
       "       1, 4, 1, 7, 5, 1, 0, 6, 2, 1, 9, 0, 4, 7, 1, 3, 0, 9, 9, 4, 9, 2,\n",
       "       8, 7, 4, 3, 1, 7, 8, 6, 4, 5, 9, 8, 6, 3, 6, 5, 0, 5, 9, 1, 4, 6,\n",
       "       8, 4, 8, 2, 9, 5, 0, 5, 9, 7, 2, 3, 2, 7, 3, 7, 6, 5, 6, 9, 2, 2,\n",
       "       4, 5, 9, 0, 8, 6, 1, 0, 9, 4, 3, 9, 7, 8, 6, 8, 9, 3, 8, 8, 4, 7,\n",
       "       1, 1, 6, 6, 1, 3, 1, 1, 9, 0, 2, 1, 3, 4, 4, 9, 7, 9, 6, 3, 5, 0,\n",
       "       7, 5, 8, 3, 7, 8, 6, 5, 6, 0, 0, 4, 5, 3, 1, 4, 8, 8, 4, 0, 7, 3,\n",
       "       6, 9, 0, 5, 5, 5, 6, 3, 4, 0, 2, 2, 0, 0, 5, 0, 1, 5, 5, 7, 5, 1,\n",
       "       3, 4, 5, 4, 9, 3, 6, 2, 3, 1, 7, 3, 7, 3, 3, 2, 1, 3, 3, 3, 9, 1,\n",
       "       7, 4, 8, 9, 0, 2, 7, 9, 1, 7, 1, 0, 5, 4, 9, 6, 1, 2, 5, 8, 4, 3,\n",
       "       1, 8, 8, 5, 2, 1, 8, 2, 8, 6, 9, 6, 4, 4, 6, 0, 2, 1, 0, 6, 4, 2,\n",
       "       5, 7, 8, 0, 5, 0, 0, 1, 1, 7, 7, 1, 1, 7, 9, 3, 9, 5, 3, 2, 7, 3,\n",
       "       0, 4, 0, 6, 1, 5, 9, 9, 6, 2, 2, 8, 0, 1, 3, 2, 5, 0, 1, 8, 0, 3,\n",
       "       9, 5, 1, 0, 4, 0, 8, 7, 2, 7, 3, 3, 1, 6, 3, 2, 8, 6, 4, 9, 3, 5,\n",
       "       4, 9, 5, 1, 1, 9, 3, 4, 4, 4, 2, 3, 4, 1, 2, 5, 6, 7, 2, 2, 4, 8,\n",
       "       4, 6, 5, 3, 4, 8, 6, 6, 6, 4, 1, 6, 7, 6, 0, 6, 0, 4, 0, 8, 8, 3,\n",
       "       2, 1, 9, 3, 8, 1, 6, 3, 8, 7, 1, 1, 1, 2, 8, 7, 6, 7, 4, 3, 8, 8,\n",
       "       5, 1, 9, 6, 8, 0, 1, 8, 5, 7, 4, 4, 5, 9, 2, 8, 7, 4, 0, 3, 9, 8,\n",
       "       3, 0, 3, 8, 5, 3, 8, 9, 8, 6, 0, 9, 1, 8, 0, 6, 7, 8, 5, 0, 7, 9,\n",
       "       0, 3, 6, 7, 2, 7, 0, 9, 9, 1, 5, 1, 0, 3, 4, 7, 4, 1, 7, 2, 8, 9,\n",
       "       6, 2, 1, 6, 6, 0, 6, 4, 3, 1, 8, 0, 7, 1, 0, 2, 3, 7, 5, 3, 5, 7,\n",
       "       5, 5, 8, 0, 0, 3, 5, 0, 5, 2, 6, 2, 8, 6, 7, 6, 6, 2, 8, 3, 0, 9,\n",
       "       7, 9, 4, 3, 6, 9, 2, 4, 7, 0, 0, 4, 0, 6, 6, 5, 4, 4, 0, 9, 1, 4,\n",
       "       2, 7, 8, 0, 7, 3, 9, 3, 3, 9, 9, 1, 7, 2, 7, 9, 1, 0, 2, 8, 7, 2,\n",
       "       0, 0, 0, 7, 5, 9, 2, 8, 4, 5, 4, 2, 1, 8, 2, 2, 4, 1, 9, 1, 8, 1,\n",
       "       5, 2, 3, 9, 7, 9, 1, 8, 0, 0, 4, 5, 1, 5, 3, 1, 4, 2, 4, 4, 3, 9,\n",
       "       8, 7, 3, 9, 6, 7, 2, 7, 4, 4, 1, 9, 7, 3, 6, 6, 3, 9, 2, 1, 3, 2,\n",
       "       0, 2, 8, 7, 6, 2, 6, 1, 6, 3, 5, 8, 5, 1, 8, 6, 7, 0, 3, 3, 2, 3,\n",
       "       9, 5, 8, 0, 1, 4, 2, 2, 9, 1, 0, 3, 9, 4, 7, 4, 2, 8])"
      ]
     },
     "execution_count": 63,
     "metadata": {},
     "output_type": "execute_result"
    }
   ],
   "source": [
    "%time my_clf.predict(X_test)"
   ]
  },
  {
   "cell_type": "code",
   "execution_count": 96,
   "metadata": {},
   "outputs": [
    {
     "name": "stdout",
     "output_type": "stream",
     "text": [
      "CPU times: user 1min 6s, sys: 6.65 ms, total: 1min 6s\n",
      "Wall time: 1min 7s\n"
     ]
    },
    {
     "data": {
      "text/plain": [
       "array([[0., 1., 0., ..., 0., 0., 0.],\n",
       "       [0., 0., 0., ..., 1., 0., 0.],\n",
       "       [0., 0., 0., ..., 0., 0., 0.],\n",
       "       ...,\n",
       "       [0., 0., 0., ..., 0., 0., 0.],\n",
       "       [0., 0., 1., ..., 0., 0., 0.],\n",
       "       [0., 0., 0., ..., 0., 0., 0.]])"
      ]
     },
     "execution_count": 96,
     "metadata": {},
     "output_type": "execute_result"
    }
   ],
   "source": [
    "%time clf.predict_proba(X_test)"
   ]
  },
  {
   "cell_type": "code",
   "execution_count": 64,
   "metadata": {},
   "outputs": [
    {
     "name": "stdout",
     "output_type": "stream",
     "text": [
      "CPU times: user 27.3 s, sys: 723 ms, total: 28 s\n",
      "Wall time: 33.6 s\n"
     ]
    },
    {
     "data": {
      "text/plain": [
       "array([[0., 0., 1., ..., 0., 0., 0.],\n",
       "       [0., 0., 0., ..., 1., 0., 0.],\n",
       "       [0., 0., 0., ..., 1., 0., 0.],\n",
       "       ...,\n",
       "       [0., 0., 0., ..., 0., 0., 0.],\n",
       "       [0., 0., 1., ..., 0., 0., 0.],\n",
       "       [0., 0., 0., ..., 0., 1., 0.]])"
      ]
     },
     "execution_count": 64,
     "metadata": {},
     "output_type": "execute_result"
    }
   ],
   "source": [
    "%time my_clf.predict_proba(X_test)"
   ]
  },
  {
   "cell_type": "code",
   "execution_count": 63,
   "metadata": {},
   "outputs": [
    {
     "data": {
      "text/plain": [
       "0.9628571428571429"
      ]
     },
     "execution_count": 63,
     "metadata": {},
     "output_type": "execute_result"
    }
   ],
   "source": [
    "clf.score(X_test, y_test)"
   ]
  },
  {
   "cell_type": "code",
   "execution_count": 65,
   "metadata": {},
   "outputs": [
    {
     "data": {
      "text/plain": [
       "0.9785714285714285"
      ]
     },
     "execution_count": 65,
     "metadata": {},
     "output_type": "execute_result"
    }
   ],
   "source": [
    "my_clf.score(X_test, y_test)"
   ]
  },
  {
   "cell_type": "markdown",
   "metadata": {},
   "source": [
    "Задание 4"
   ]
  },
  {
   "cell_type": "code",
   "execution_count": 66,
   "metadata": {},
   "outputs": [],
   "source": [
    "clf = KNeighborsClassifier(n_neighbors=2, algorithm='kd_tree')\n",
    "my_clf = MyKNeighborsClassifier(n_neighbors=2, algorithm='kd_tree')"
   ]
  },
  {
   "cell_type": "code",
   "execution_count": 67,
   "metadata": {},
   "outputs": [],
   "source": [
    "X_train, X_test, y_train, y_test = train_test_split(mnist.data, mnist.target, test_size=0.01, stratify=mnist.target)"
   ]
  },
  {
   "cell_type": "code",
   "execution_count": 367,
   "metadata": {},
   "outputs": [
    {
     "name": "stdout",
     "output_type": "stream",
     "text": [
      "CPU times: user 52.3 s, sys: 244 ms, total: 52.5 s\n",
      "Wall time: 53.3 s\n"
     ]
    },
    {
     "data": {
      "text/plain": [
       "KNeighborsClassifier(algorithm='kd_tree', leaf_size=30, metric='minkowski',\n",
       "           metric_params=None, n_jobs=None, n_neighbors=2, p=2,\n",
       "           weights='uniform')"
      ]
     },
     "execution_count": 367,
     "metadata": {},
     "output_type": "execute_result"
    }
   ],
   "source": [
    "%time clf.fit(X_train, y_train)"
   ]
  },
  {
   "cell_type": "code",
   "execution_count": 68,
   "metadata": {},
   "outputs": [
    {
     "name": "stdout",
     "output_type": "stream",
     "text": [
      "CPU times: user 56.4 s, sys: 263 ms, total: 56.6 s\n",
      "Wall time: 56.6 s\n"
     ]
    }
   ],
   "source": [
    "%time my_clf.fit(X_train, y_train)"
   ]
  },
  {
   "cell_type": "code",
   "execution_count": 261,
   "metadata": {},
   "outputs": [
    {
     "name": "stdout",
     "output_type": "stream",
     "text": [
      "CPU times: user 1min 8s, sys: 54.7 ms, total: 1min 8s\n",
      "Wall time: 1min 8s\n"
     ]
    },
    {
     "data": {
      "text/plain": [
       "array([7., 2., 8., 9., 1., 2., 6., 1., 3., 2., 0., 0., 4., 0., 4., 7., 2.,\n",
       "       4., 0., 1., 8., 6., 3., 0., 1., 9., 9., 5., 3., 8., 0., 1., 4., 0.,\n",
       "       3., 4., 3., 7., 9., 3., 1., 0., 0., 9., 3., 7., 1., 5., 0., 6., 1.,\n",
       "       3., 5., 7., 0., 3., 3., 0., 1., 7., 2., 9., 4., 0., 5., 1., 9., 2.,\n",
       "       1., 7., 7., 0., 5., 2., 0., 7., 4., 0., 0., 2., 9., 5., 3., 7., 5.,\n",
       "       3., 3., 0., 7., 3., 3., 6., 4., 8., 8., 4., 1., 2., 4., 4., 8., 5.,\n",
       "       8., 2., 0., 0., 7., 9., 2., 4., 8., 6., 1., 3., 4., 6., 6., 9., 4.,\n",
       "       7., 7., 1., 9., 1., 8., 6., 2., 9., 6., 6., 6., 3., 9., 7., 5., 8.,\n",
       "       8., 2., 5., 3., 5., 6., 5., 7., 9., 3., 1., 1., 0., 4., 6., 7., 8.,\n",
       "       9., 9., 6., 9., 5., 2., 5., 2., 3., 4., 8., 4., 4., 3., 9., 2., 0.,\n",
       "       3., 8., 0., 9., 7., 1., 1., 2., 2., 7., 7., 3., 8., 8., 3., 3., 1.,\n",
       "       3., 3., 6., 2., 8., 0., 2., 1., 3., 7., 0., 4., 7., 9., 3., 0., 2.,\n",
       "       6., 6., 5., 8., 6., 2., 9., 5., 7., 6., 9., 4., 6., 4., 9., 7., 2.,\n",
       "       9., 8., 3., 3., 2., 1., 6., 7., 7., 4., 3., 1., 1., 4., 7., 6., 5.,\n",
       "       5., 5., 6., 5., 4., 3., 7., 8., 9., 7., 4., 9., 0., 7., 1., 0., 3.,\n",
       "       2., 7., 3., 6., 9., 3., 7., 6., 7., 2., 5., 6., 7., 1., 4., 4., 8.,\n",
       "       5., 6., 0., 7., 9., 8., 0., 5., 6., 3., 4., 7., 7., 4., 8., 1., 1.,\n",
       "       1., 9., 4., 5., 0., 8., 0., 0., 0., 9., 9., 7., 1., 1., 6., 2., 3.,\n",
       "       3., 2., 8., 8., 6., 0., 2., 1., 8., 9., 2., 3., 5., 8., 5., 3., 3.,\n",
       "       2., 7., 0., 0., 9., 6., 8., 9., 1., 7., 7., 6., 1., 9., 2., 4., 3.,\n",
       "       4., 5., 0., 4., 1., 7., 8., 0., 6., 9., 3., 3., 9., 6., 8., 4., 0.,\n",
       "       3., 7., 4., 7., 5., 0., 5., 3., 8., 8., 9., 1., 3., 4., 1., 4., 5.,\n",
       "       3., 2., 2., 9., 8., 1., 1., 9., 2., 3., 7., 5., 5., 7., 7., 7., 2.,\n",
       "       7., 9., 2., 1., 0., 6., 1., 8., 5., 9., 8., 0., 0., 8., 8., 2., 5.,\n",
       "       3., 4., 4., 0., 3., 9., 8., 1., 8., 8., 1., 7., 2., 1., 1., 6., 5.,\n",
       "       9., 4., 5., 5., 7., 6., 4., 3., 2., 4., 0., 8., 1., 1., 3., 2., 0.,\n",
       "       6., 4., 3., 9., 4., 8., 5., 0., 7., 4., 2., 4., 4., 6., 4., 6., 6.,\n",
       "       7., 5., 0., 5., 2., 2., 7., 1., 2., 2., 4., 2., 2., 3., 9., 3., 1.,\n",
       "       3., 2., 0., 6., 9., 4., 1., 9., 1., 8., 4., 7., 6., 1., 2., 0., 6.,\n",
       "       8., 6., 8., 1., 6., 6., 0., 1., 6., 8., 4., 6., 6., 7., 4., 9., 5.,\n",
       "       0., 6., 0., 7., 9., 9., 7., 2., 9., 3., 8., 3., 4., 0., 1., 6., 7.,\n",
       "       9., 0., 5., 8., 5., 9., 3., 9., 1., 3., 1., 4., 5., 9., 0., 0., 0.,\n",
       "       1., 2., 7., 4., 8., 1., 4., 0., 5., 3., 7., 9., 3., 0., 4., 8., 1.,\n",
       "       6., 6., 0., 9., 1., 4., 6., 2., 1., 6., 1., 1., 9., 7., 2., 4., 6.,\n",
       "       0., 9., 5., 6., 2., 5., 5., 5., 8., 8., 8., 6., 8., 5., 2., 1., 8.,\n",
       "       0., 5., 3., 6., 4., 8., 8., 5., 3., 1., 8., 0., 4., 9., 2., 1., 7.,\n",
       "       4., 6., 7., 9., 2., 1., 3., 2., 2., 2., 3., 5., 0., 7., 3., 0., 1.,\n",
       "       9., 9., 3., 1., 6., 4., 7., 5., 7., 9., 1., 0., 1., 4., 4., 3., 9.,\n",
       "       6., 1., 0., 3., 0., 5., 1., 2., 7., 3., 2., 0., 6., 3., 1., 1., 2.,\n",
       "       7., 1., 5., 9., 6., 0., 1., 7., 7., 6., 2., 3., 4., 6., 3., 5., 8.,\n",
       "       1., 1., 6., 2., 6., 7., 9., 5., 5., 7., 6., 4., 7., 9., 7., 5., 2.,\n",
       "       2., 8., 2.])"
      ]
     },
     "execution_count": 261,
     "metadata": {},
     "output_type": "execute_result"
    }
   ],
   "source": [
    "%time clf.predict(X_test)"
   ]
  },
  {
   "cell_type": "code",
   "execution_count": 262,
   "metadata": {},
   "outputs": [
    {
     "name": "stdout",
     "output_type": "stream",
     "text": [
      "CPU times: user 27.7 s, sys: 749 ms, total: 28.4 s\n",
      "Wall time: 51 s\n"
     ]
    },
    {
     "data": {
      "text/plain": [
       "array([7, 2, 8, 9, 1, 2, 6, 1, 3, 2, 0, 0, 4, 0, 4, 7, 2, 4, 0, 1, 8, 6,\n",
       "       3, 0, 1, 9, 9, 5, 3, 8, 0, 1, 4, 0, 3, 4, 3, 7, 9, 3, 1, 0, 0, 9,\n",
       "       3, 7, 1, 5, 0, 6, 1, 3, 5, 7, 0, 3, 3, 0, 1, 7, 2, 9, 4, 0, 5, 1,\n",
       "       9, 2, 1, 7, 7, 0, 5, 2, 0, 7, 4, 0, 0, 2, 9, 5, 3, 7, 5, 3, 3, 0,\n",
       "       7, 3, 3, 6, 4, 8, 8, 4, 1, 2, 4, 4, 8, 5, 8, 2, 0, 0, 7, 9, 2, 4,\n",
       "       8, 6, 1, 3, 4, 6, 6, 9, 4, 7, 7, 1, 9, 1, 8, 6, 2, 9, 6, 6, 6, 3,\n",
       "       9, 7, 5, 8, 8, 2, 5, 3, 5, 6, 5, 7, 9, 3, 1, 1, 0, 4, 6, 7, 8, 9,\n",
       "       9, 6, 9, 5, 2, 5, 2, 3, 4, 8, 4, 4, 3, 9, 2, 0, 3, 8, 0, 9, 7, 1,\n",
       "       1, 2, 2, 7, 7, 3, 8, 8, 3, 3, 1, 3, 3, 6, 2, 8, 0, 2, 1, 3, 7, 0,\n",
       "       4, 7, 9, 3, 0, 2, 6, 6, 5, 8, 6, 2, 9, 5, 7, 6, 9, 4, 6, 4, 9, 7,\n",
       "       2, 9, 8, 3, 3, 2, 1, 6, 7, 7, 4, 3, 1, 1, 4, 7, 6, 5, 5, 5, 6, 5,\n",
       "       4, 3, 7, 8, 9, 7, 4, 9, 0, 7, 1, 0, 3, 2, 7, 3, 6, 9, 3, 7, 6, 7,\n",
       "       2, 5, 6, 7, 1, 4, 4, 8, 5, 6, 0, 7, 9, 8, 0, 5, 6, 3, 4, 7, 7, 4,\n",
       "       8, 1, 1, 1, 9, 4, 5, 0, 8, 0, 0, 0, 9, 9, 7, 1, 1, 6, 2, 3, 3, 2,\n",
       "       8, 8, 6, 0, 2, 1, 8, 9, 2, 3, 5, 8, 5, 3, 3, 2, 7, 0, 0, 9, 6, 8,\n",
       "       9, 1, 7, 7, 6, 1, 9, 2, 4, 3, 4, 5, 0, 4, 1, 7, 8, 0, 6, 9, 3, 3,\n",
       "       9, 6, 8, 4, 0, 3, 7, 4, 7, 5, 0, 5, 3, 8, 8, 9, 1, 3, 4, 1, 4, 5,\n",
       "       3, 2, 2, 9, 8, 1, 1, 9, 2, 3, 7, 5, 5, 7, 7, 7, 2, 7, 9, 2, 1, 0,\n",
       "       6, 1, 8, 5, 9, 8, 0, 0, 8, 8, 2, 5, 3, 4, 4, 0, 3, 9, 8, 1, 8, 8,\n",
       "       1, 7, 2, 1, 1, 6, 5, 9, 4, 5, 5, 7, 6, 4, 3, 2, 4, 0, 8, 1, 1, 3,\n",
       "       2, 0, 6, 4, 3, 9, 4, 8, 5, 0, 7, 4, 2, 4, 4, 6, 4, 6, 6, 7, 5, 0,\n",
       "       5, 2, 2, 7, 1, 2, 2, 4, 2, 2, 3, 9, 3, 1, 3, 2, 0, 6, 9, 4, 1, 9,\n",
       "       1, 8, 4, 7, 6, 1, 2, 0, 6, 8, 6, 8, 1, 6, 6, 0, 1, 6, 8, 4, 6, 6,\n",
       "       7, 4, 9, 5, 0, 6, 0, 7, 9, 9, 7, 2, 9, 3, 8, 3, 4, 0, 1, 6, 7, 9,\n",
       "       0, 5, 8, 5, 9, 3, 9, 1, 3, 1, 4, 5, 9, 0, 0, 0, 1, 2, 7, 4, 8, 1,\n",
       "       4, 0, 5, 3, 7, 9, 3, 0, 4, 8, 1, 6, 6, 0, 9, 1, 4, 6, 2, 1, 6, 1,\n",
       "       1, 9, 7, 2, 4, 6, 0, 9, 5, 6, 2, 5, 5, 5, 8, 8, 8, 6, 8, 5, 2, 1,\n",
       "       8, 0, 5, 3, 6, 4, 8, 8, 5, 3, 1, 8, 0, 4, 9, 2, 1, 7, 4, 6, 7, 9,\n",
       "       2, 1, 3, 2, 2, 2, 3, 5, 0, 7, 3, 0, 1, 9, 9, 3, 1, 6, 4, 7, 5, 7,\n",
       "       9, 1, 0, 1, 4, 4, 3, 9, 6, 1, 0, 3, 0, 5, 1, 2, 7, 3, 2, 0, 6, 3,\n",
       "       1, 1, 2, 7, 1, 5, 9, 6, 0, 1, 7, 7, 6, 2, 3, 4, 6, 3, 5, 8, 1, 1,\n",
       "       6, 2, 6, 7, 9, 5, 5, 7, 6, 4, 7, 9, 7, 5, 2, 2, 8, 2])"
      ]
     },
     "execution_count": 262,
     "metadata": {},
     "output_type": "execute_result"
    }
   ],
   "source": [
    "%time my_clf.predict(X_test)"
   ]
  },
  {
   "cell_type": "code",
   "execution_count": 263,
   "metadata": {},
   "outputs": [
    {
     "name": "stdout",
     "output_type": "stream",
     "text": [
      "CPU times: user 1min 8s, sys: 10.9 ms, total: 1min 8s\n",
      "Wall time: 1min 10s\n"
     ]
    },
    {
     "data": {
      "text/plain": [
       "array([[0., 0., 0., ..., 1., 0., 0.],\n",
       "       [0., 0., 1., ..., 0., 0., 0.],\n",
       "       [0., 0., 0., ..., 0., 1., 0.],\n",
       "       ...,\n",
       "       [0., 0., 1., ..., 0., 0., 0.],\n",
       "       [0., 0., 0., ..., 0., 1., 0.],\n",
       "       [0., 0., 1., ..., 0., 0., 0.]])"
      ]
     },
     "execution_count": 263,
     "metadata": {},
     "output_type": "execute_result"
    }
   ],
   "source": [
    "%time clf.predict_proba(X_test)"
   ]
  },
  {
   "cell_type": "code",
   "execution_count": 264,
   "metadata": {},
   "outputs": [
    {
     "name": "stdout",
     "output_type": "stream",
     "text": [
      "CPU times: user 29.2 s, sys: 1.02 s, total: 30.2 s\n",
      "Wall time: 30.5 s\n"
     ]
    },
    {
     "data": {
      "text/plain": [
       "array([[0., 0., 0., ..., 1., 0., 0.],\n",
       "       [0., 0., 1., ..., 0., 0., 0.],\n",
       "       [0., 0., 0., ..., 0., 1., 0.],\n",
       "       ...,\n",
       "       [0., 0., 1., ..., 0., 0., 0.],\n",
       "       [0., 0., 0., ..., 0., 1., 0.],\n",
       "       [0., 0., 1., ..., 0., 0., 0.]])"
      ]
     },
     "execution_count": 264,
     "metadata": {},
     "output_type": "execute_result"
    }
   ],
   "source": [
    "%time my_clf.predict_proba(X_test)"
   ]
  },
  {
   "cell_type": "code",
   "execution_count": 265,
   "metadata": {},
   "outputs": [
    {
     "data": {
      "text/plain": [
       "0.9685714285714285"
      ]
     },
     "execution_count": 265,
     "metadata": {},
     "output_type": "execute_result"
    }
   ],
   "source": [
    "clf.score(X_test, y_test)"
   ]
  },
  {
   "cell_type": "code",
   "execution_count": 69,
   "metadata": {},
   "outputs": [
    {
     "data": {
      "text/plain": [
       "0.9742857142857143"
      ]
     },
     "execution_count": 69,
     "metadata": {},
     "output_type": "execute_result"
    }
   ],
   "source": [
    "my_clf.score(X_test, y_test)"
   ]
  },
  {
   "cell_type": "markdown",
   "metadata": {},
   "source": [
    "Задание 5"
   ]
  },
  {
   "cell_type": "code",
   "execution_count": null,
   "metadata": {},
   "outputs": [],
   "source": [
    "# seaborn\n",
    "#для визуализации данных\n",
    "# matplotlib\n",
    "#для визуализации данных тоже\n",
    "# train_test_split\n",
    "# для деления выборки на тестовую и на обучающую\n",
    "# Pipelin%load_ext e (from sklearn.pipeline import Pipeline)\n",
    "# Конвейер, позволяющий поочередно выполнить набор команд,\n",
    "# где следующей на вход подается выход предыдущей\n",
    "# StandardScaler (from sklearn.preprocessing import StandardScaler)\n",
    "# Преобразует данные : вычитает среднее и делит\n",
    "# на стандартное отклонение\n",
    "# ClassifierMixin\n",
    "# Класс, реализует вычисление score для классификаторов из sklearn\n",
    "# NeighborsBase\n",
    "# Базовый класс для метода k ближайших соседей\n",
    "# Служит для поиска ошибок во вводе\n",
    "# KNeighborsMixin\n",
    "# Класс, служит для реализации метода ближайших соседей\n",
    "# SupervisedIntegerMixin\n",
    "# Там описан метод fit"
   ]
  }
 ],
 "metadata": {
  "kernelspec": {
   "display_name": "Python 3",
   "language": "python",
   "name": "python3"
  },
  "language_info": {
   "codemirror_mode": {
    "name": "ipython",
    "version": 3
   },
   "file_extension": ".py",
   "mimetype": "text/x-python",
   "name": "python",
   "nbconvert_exporter": "python",
   "pygments_lexer": "ipython3",
   "version": "3.7.1"
  }
 },
 "nbformat": 4,
 "nbformat_minor": 2
}
